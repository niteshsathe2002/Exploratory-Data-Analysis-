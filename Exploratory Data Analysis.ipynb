{
 "cells": [
  {
   "cell_type": "markdown",
   "id": "fe8dd9c3",
   "metadata": {},
   "source": [
    "\n",
    "# Exploratory Data Analysis\n"
   ]
  },
  {
   "cell_type": "code",
   "execution_count": null,
   "id": "16927d4b",
   "metadata": {},
   "outputs": [],
   "source": []
  },
  {
   "cell_type": "code",
   "execution_count": 1,
   "id": "73a5c171",
   "metadata": {},
   "outputs": [],
   "source": [
    "#import packages\n",
    "#libraries\n",
    "import numpy as np\n",
    "import pandas as pd\n",
    "import matplotlib.pyplot as plt\n",
    "import seaborn as sns"
   ]
  },
  {
   "cell_type": "code",
   "execution_count": 15,
   "id": "27c44633",
   "metadata": {},
   "outputs": [],
   "source": [
    "\n",
    "df=pd.read_csv(r'C:\\DATA\\1sem_marks.csv')\n"
   ]
  },
  {
   "cell_type": "code",
   "execution_count": 16,
   "id": "14969320",
   "metadata": {},
   "outputs": [
    {
     "data": {
      "text/html": [
       "<div>\n",
       "<style scoped>\n",
       "    .dataframe tbody tr th:only-of-type {\n",
       "        vertical-align: middle;\n",
       "    }\n",
       "\n",
       "    .dataframe tbody tr th {\n",
       "        vertical-align: top;\n",
       "    }\n",
       "\n",
       "    .dataframe thead th {\n",
       "        text-align: right;\n",
       "    }\n",
       "</style>\n",
       "<table border=\"1\" class=\"dataframe\">\n",
       "  <thead>\n",
       "    <tr style=\"text-align: right;\">\n",
       "      <th></th>\n",
       "      <th>index</th>\n",
       "      <th>SR.NO</th>\n",
       "      <th>ROLL_NO</th>\n",
       "      <th>ST_101</th>\n",
       "      <th>ST_102</th>\n",
       "      <th>ST_103</th>\n",
       "      <th>ST_104</th>\n",
       "      <th>ST_105</th>\n",
       "      <th>ST_106</th>\n",
       "      <th>Total</th>\n",
       "      <th>Percentage</th>\n",
       "      <th>Grade</th>\n",
       "    </tr>\n",
       "  </thead>\n",
       "  <tbody>\n",
       "    <tr>\n",
       "      <th>0</th>\n",
       "      <td>8</td>\n",
       "      <td>9</td>\n",
       "      <td>368194</td>\n",
       "      <td>79</td>\n",
       "      <td>89</td>\n",
       "      <td>84</td>\n",
       "      <td>77</td>\n",
       "      <td>84</td>\n",
       "      <td>77</td>\n",
       "      <td>490</td>\n",
       "      <td>81.666667</td>\n",
       "      <td>O</td>\n",
       "    </tr>\n",
       "    <tr>\n",
       "      <th>1</th>\n",
       "      <td>26</td>\n",
       "      <td>27</td>\n",
       "      <td>368212</td>\n",
       "      <td>77</td>\n",
       "      <td>74</td>\n",
       "      <td>71</td>\n",
       "      <td>73</td>\n",
       "      <td>85</td>\n",
       "      <td>84</td>\n",
       "      <td>464</td>\n",
       "      <td>77.333333</td>\n",
       "      <td>A+</td>\n",
       "    </tr>\n",
       "    <tr>\n",
       "      <th>2</th>\n",
       "      <td>32</td>\n",
       "      <td>33</td>\n",
       "      <td>368218</td>\n",
       "      <td>64</td>\n",
       "      <td>82</td>\n",
       "      <td>68</td>\n",
       "      <td>77</td>\n",
       "      <td>84</td>\n",
       "      <td>83</td>\n",
       "      <td>458</td>\n",
       "      <td>76.333333</td>\n",
       "      <td>A+</td>\n",
       "    </tr>\n",
       "    <tr>\n",
       "      <th>3</th>\n",
       "      <td>34</td>\n",
       "      <td>35</td>\n",
       "      <td>368220</td>\n",
       "      <td>68</td>\n",
       "      <td>56</td>\n",
       "      <td>68</td>\n",
       "      <td>76</td>\n",
       "      <td>75</td>\n",
       "      <td>78</td>\n",
       "      <td>421</td>\n",
       "      <td>70.166667</td>\n",
       "      <td>A+</td>\n",
       "    </tr>\n",
       "    <tr>\n",
       "      <th>4</th>\n",
       "      <td>2</td>\n",
       "      <td>3</td>\n",
       "      <td>368188</td>\n",
       "      <td>70</td>\n",
       "      <td>72</td>\n",
       "      <td>56</td>\n",
       "      <td>78</td>\n",
       "      <td>72</td>\n",
       "      <td>67</td>\n",
       "      <td>415</td>\n",
       "      <td>69.166667</td>\n",
       "      <td>A</td>\n",
       "    </tr>\n",
       "  </tbody>\n",
       "</table>\n",
       "</div>"
      ],
      "text/plain": [
       "   index  SR.NO  ROLL_NO  ST_101  ST_102  ST_103  ST_104  ST_105  ST_106  \\\n",
       "0      8      9   368194      79      89      84      77      84      77   \n",
       "1     26     27   368212      77      74      71      73      85      84   \n",
       "2     32     33   368218      64      82      68      77      84      83   \n",
       "3     34     35   368220      68      56      68      76      75      78   \n",
       "4      2      3   368188      70      72      56      78      72      67   \n",
       "\n",
       "   Total  Percentage Grade  \n",
       "0    490   81.666667     O  \n",
       "1    464   77.333333    A+  \n",
       "2    458   76.333333    A+  \n",
       "3    421   70.166667    A+  \n",
       "4    415   69.166667     A  "
      ]
     },
     "execution_count": 16,
     "metadata": {},
     "output_type": "execute_result"
    }
   ],
   "source": [
    "df=df.sort_values(by=['Percentage'],ascending=False).reset_index()\n",
    "df.head()\n"
   ]
  },
  {
   "cell_type": "code",
   "execution_count": 4,
   "id": "86f723e8",
   "metadata": {},
   "outputs": [
    {
     "data": {
      "text/plain": [
       "index         0\n",
       "SR.NO         0\n",
       "ROLL_NO       0\n",
       "ST_101        0\n",
       "ST_102        0\n",
       "ST_103        0\n",
       "ST_104        0\n",
       "ST_105        0\n",
       "ST_106        0\n",
       "Total         0\n",
       "Percentage    0\n",
       "Grade         0\n",
       "dtype: int64"
      ]
     },
     "execution_count": 4,
     "metadata": {},
     "output_type": "execute_result"
    }
   ],
   "source": [
    "df.shape\n",
    "df.isnull().sum()"
   ]
  },
  {
   "cell_type": "markdown",
   "id": "811355a4",
   "metadata": {},
   "source": [
    "## Descriptive Statistics\n"
   ]
  },
  {
   "cell_type": "code",
   "execution_count": 17,
   "id": "15590fdc",
   "metadata": {},
   "outputs": [
    {
     "data": {
      "text/html": [
       "<div>\n",
       "<style scoped>\n",
       "    .dataframe tbody tr th:only-of-type {\n",
       "        vertical-align: middle;\n",
       "    }\n",
       "\n",
       "    .dataframe tbody tr th {\n",
       "        vertical-align: top;\n",
       "    }\n",
       "\n",
       "    .dataframe thead th {\n",
       "        text-align: right;\n",
       "    }\n",
       "</style>\n",
       "<table border=\"1\" class=\"dataframe\">\n",
       "  <thead>\n",
       "    <tr style=\"text-align: right;\">\n",
       "      <th></th>\n",
       "      <th>index</th>\n",
       "      <th>SR.NO</th>\n",
       "      <th>ROLL_NO</th>\n",
       "      <th>ST_101</th>\n",
       "      <th>ST_102</th>\n",
       "      <th>ST_103</th>\n",
       "      <th>ST_104</th>\n",
       "      <th>ST_105</th>\n",
       "      <th>ST_106</th>\n",
       "      <th>Total</th>\n",
       "      <th>Percentage</th>\n",
       "    </tr>\n",
       "  </thead>\n",
       "  <tbody>\n",
       "    <tr>\n",
       "      <th>count</th>\n",
       "      <td>43.000000</td>\n",
       "      <td>43.000000</td>\n",
       "      <td>43.000000</td>\n",
       "      <td>43.000000</td>\n",
       "      <td>43.000000</td>\n",
       "      <td>43.000000</td>\n",
       "      <td>43.000000</td>\n",
       "      <td>43.000000</td>\n",
       "      <td>43.000000</td>\n",
       "      <td>43.000000</td>\n",
       "      <td>43.000000</td>\n",
       "    </tr>\n",
       "    <tr>\n",
       "      <th>mean</th>\n",
       "      <td>21.000000</td>\n",
       "      <td>22.000000</td>\n",
       "      <td>368207.000000</td>\n",
       "      <td>49.581395</td>\n",
       "      <td>45.162791</td>\n",
       "      <td>46.906977</td>\n",
       "      <td>40.790698</td>\n",
       "      <td>55.000000</td>\n",
       "      <td>55.558140</td>\n",
       "      <td>293.000000</td>\n",
       "      <td>48.833333</td>\n",
       "    </tr>\n",
       "    <tr>\n",
       "      <th>std</th>\n",
       "      <td>12.556539</td>\n",
       "      <td>12.556539</td>\n",
       "      <td>12.556539</td>\n",
       "      <td>17.931394</td>\n",
       "      <td>21.836983</td>\n",
       "      <td>16.496484</td>\n",
       "      <td>20.444534</td>\n",
       "      <td>19.093754</td>\n",
       "      <td>16.660907</td>\n",
       "      <td>101.886959</td>\n",
       "      <td>16.981160</td>\n",
       "    </tr>\n",
       "    <tr>\n",
       "      <th>min</th>\n",
       "      <td>0.000000</td>\n",
       "      <td>1.000000</td>\n",
       "      <td>368186.000000</td>\n",
       "      <td>16.000000</td>\n",
       "      <td>3.000000</td>\n",
       "      <td>10.000000</td>\n",
       "      <td>6.000000</td>\n",
       "      <td>4.000000</td>\n",
       "      <td>22.000000</td>\n",
       "      <td>94.000000</td>\n",
       "      <td>15.666667</td>\n",
       "    </tr>\n",
       "    <tr>\n",
       "      <th>25%</th>\n",
       "      <td>10.500000</td>\n",
       "      <td>11.500000</td>\n",
       "      <td>368196.500000</td>\n",
       "      <td>38.500000</td>\n",
       "      <td>35.000000</td>\n",
       "      <td>34.000000</td>\n",
       "      <td>23.500000</td>\n",
       "      <td>43.500000</td>\n",
       "      <td>47.000000</td>\n",
       "      <td>227.000000</td>\n",
       "      <td>37.833333</td>\n",
       "    </tr>\n",
       "    <tr>\n",
       "      <th>50%</th>\n",
       "      <td>21.000000</td>\n",
       "      <td>22.000000</td>\n",
       "      <td>368207.000000</td>\n",
       "      <td>53.000000</td>\n",
       "      <td>45.000000</td>\n",
       "      <td>50.000000</td>\n",
       "      <td>40.000000</td>\n",
       "      <td>58.000000</td>\n",
       "      <td>58.000000</td>\n",
       "      <td>291.000000</td>\n",
       "      <td>48.500000</td>\n",
       "    </tr>\n",
       "    <tr>\n",
       "      <th>75%</th>\n",
       "      <td>31.500000</td>\n",
       "      <td>32.500000</td>\n",
       "      <td>368217.500000</td>\n",
       "      <td>64.000000</td>\n",
       "      <td>61.500000</td>\n",
       "      <td>58.000000</td>\n",
       "      <td>55.000000</td>\n",
       "      <td>69.500000</td>\n",
       "      <td>66.500000</td>\n",
       "      <td>366.000000</td>\n",
       "      <td>61.000000</td>\n",
       "    </tr>\n",
       "    <tr>\n",
       "      <th>max</th>\n",
       "      <td>42.000000</td>\n",
       "      <td>43.000000</td>\n",
       "      <td>368228.000000</td>\n",
       "      <td>79.000000</td>\n",
       "      <td>89.000000</td>\n",
       "      <td>84.000000</td>\n",
       "      <td>78.000000</td>\n",
       "      <td>85.000000</td>\n",
       "      <td>84.000000</td>\n",
       "      <td>490.000000</td>\n",
       "      <td>81.666667</td>\n",
       "    </tr>\n",
       "  </tbody>\n",
       "</table>\n",
       "</div>"
      ],
      "text/plain": [
       "           index      SR.NO        ROLL_NO     ST_101     ST_102     ST_103  \\\n",
       "count  43.000000  43.000000      43.000000  43.000000  43.000000  43.000000   \n",
       "mean   21.000000  22.000000  368207.000000  49.581395  45.162791  46.906977   \n",
       "std    12.556539  12.556539      12.556539  17.931394  21.836983  16.496484   \n",
       "min     0.000000   1.000000  368186.000000  16.000000   3.000000  10.000000   \n",
       "25%    10.500000  11.500000  368196.500000  38.500000  35.000000  34.000000   \n",
       "50%    21.000000  22.000000  368207.000000  53.000000  45.000000  50.000000   \n",
       "75%    31.500000  32.500000  368217.500000  64.000000  61.500000  58.000000   \n",
       "max    42.000000  43.000000  368228.000000  79.000000  89.000000  84.000000   \n",
       "\n",
       "          ST_104     ST_105     ST_106       Total  Percentage  \n",
       "count  43.000000  43.000000  43.000000   43.000000   43.000000  \n",
       "mean   40.790698  55.000000  55.558140  293.000000   48.833333  \n",
       "std    20.444534  19.093754  16.660907  101.886959   16.981160  \n",
       "min     6.000000   4.000000  22.000000   94.000000   15.666667  \n",
       "25%    23.500000  43.500000  47.000000  227.000000   37.833333  \n",
       "50%    40.000000  58.000000  58.000000  291.000000   48.500000  \n",
       "75%    55.000000  69.500000  66.500000  366.000000   61.000000  \n",
       "max    78.000000  85.000000  84.000000  490.000000   81.666667  "
      ]
     },
     "execution_count": 17,
     "metadata": {},
     "output_type": "execute_result"
    }
   ],
   "source": [
    "df.describe()"
   ]
  },
  {
   "cell_type": "markdown",
   "id": "8d415329",
   "metadata": {},
   "source": [
    "## Displaying Qualitative Data"
   ]
  },
  {
   "cell_type": "markdown",
   "id": "7b3fb998",
   "metadata": {},
   "source": [
    "### 1.Frequency Table"
   ]
  },
  {
   "cell_type": "markdown",
   "id": "4900e602",
   "metadata": {},
   "source": [
    "- A Table that lists the different group of categorical data and the correspondig frequencies with which the occours is called the **frequency Table**. Qualitative information presented in form table"
   ]
  },
  {
   "cell_type": "code",
   "execution_count": null,
   "id": "c04b54f2",
   "metadata": {},
   "outputs": [],
   "source": []
  },
  {
   "cell_type": "markdown",
   "id": "c368efb5",
   "metadata": {},
   "source": [
    "**Example** Suppose the letter grades od english in small class are A,D,C,D,C,C,C,C,F and B. Creat both a frequency table showing the counts and relative frequency Table.\n"
   ]
  },
  {
   "cell_type": "code",
   "execution_count": 5,
   "id": "2c1960e9",
   "metadata": {},
   "outputs": [
    {
     "data": {
      "text/html": [
       "<div>\n",
       "<style scoped>\n",
       "    .dataframe tbody tr th:only-of-type {\n",
       "        vertical-align: middle;\n",
       "    }\n",
       "\n",
       "    .dataframe tbody tr th {\n",
       "        vertical-align: top;\n",
       "    }\n",
       "\n",
       "    .dataframe thead th {\n",
       "        text-align: right;\n",
       "    }\n",
       "</style>\n",
       "<table border=\"1\" class=\"dataframe\">\n",
       "  <thead>\n",
       "    <tr style=\"text-align: right;\">\n",
       "      <th>col_0</th>\n",
       "      <th>count</th>\n",
       "    </tr>\n",
       "    <tr>\n",
       "      <th>row_0</th>\n",
       "      <th></th>\n",
       "    </tr>\n",
       "  </thead>\n",
       "  <tbody>\n",
       "    <tr>\n",
       "      <th>A</th>\n",
       "      <td>1</td>\n",
       "    </tr>\n",
       "    <tr>\n",
       "      <th>B</th>\n",
       "      <td>1</td>\n",
       "    </tr>\n",
       "    <tr>\n",
       "      <th>C</th>\n",
       "      <td>5</td>\n",
       "    </tr>\n",
       "    <tr>\n",
       "      <th>D</th>\n",
       "      <td>2</td>\n",
       "    </tr>\n",
       "    <tr>\n",
       "      <th>F</th>\n",
       "      <td>1</td>\n",
       "    </tr>\n",
       "  </tbody>\n",
       "</table>\n",
       "</div>"
      ],
      "text/plain": [
       "col_0  count\n",
       "row_0       \n",
       "A          1\n",
       "B          1\n",
       "C          5\n",
       "D          2\n",
       "F          1"
      ]
     },
     "execution_count": 5,
     "metadata": {},
     "output_type": "execute_result"
    }
   ],
   "source": [
    "Grades=np.array([\"A\",\"D\",\"C\",\"D\",\"C\",\"C\",\"C\",\"C\",\"F\",\"B\"])\n",
    "Table1=pd.crosstab(Grades,'count') #Frequency Table\n",
    "Table2=Table1/len(Grades) #Relative frequency Table\n",
    "Table1\n",
    "\n",
    "\n"
   ]
  },
  {
   "cell_type": "code",
   "execution_count": 6,
   "id": "88c30ee0",
   "metadata": {},
   "outputs": [
    {
     "data": {
      "text/html": [
       "<div>\n",
       "<style scoped>\n",
       "    .dataframe tbody tr th:only-of-type {\n",
       "        vertical-align: middle;\n",
       "    }\n",
       "\n",
       "    .dataframe tbody tr th {\n",
       "        vertical-align: top;\n",
       "    }\n",
       "\n",
       "    .dataframe thead th {\n",
       "        text-align: right;\n",
       "    }\n",
       "</style>\n",
       "<table border=\"1\" class=\"dataframe\">\n",
       "  <thead>\n",
       "    <tr style=\"text-align: right;\">\n",
       "      <th>col_0</th>\n",
       "      <th>count</th>\n",
       "    </tr>\n",
       "    <tr>\n",
       "      <th>row_0</th>\n",
       "      <th></th>\n",
       "    </tr>\n",
       "  </thead>\n",
       "  <tbody>\n",
       "    <tr>\n",
       "      <th>A</th>\n",
       "      <td>0.1</td>\n",
       "    </tr>\n",
       "    <tr>\n",
       "      <th>B</th>\n",
       "      <td>0.1</td>\n",
       "    </tr>\n",
       "    <tr>\n",
       "      <th>C</th>\n",
       "      <td>0.5</td>\n",
       "    </tr>\n",
       "    <tr>\n",
       "      <th>D</th>\n",
       "      <td>0.2</td>\n",
       "    </tr>\n",
       "    <tr>\n",
       "      <th>F</th>\n",
       "      <td>0.1</td>\n",
       "    </tr>\n",
       "  </tbody>\n",
       "</table>\n",
       "</div>"
      ],
      "text/plain": [
       "col_0  count\n",
       "row_0       \n",
       "A        0.1\n",
       "B        0.1\n",
       "C        0.5\n",
       "D        0.2\n",
       "F        0.1"
      ]
     },
     "execution_count": 6,
     "metadata": {},
     "output_type": "execute_result"
    }
   ],
   "source": [
    "Table2"
   ]
  },
  {
   "cell_type": "markdown",
   "id": "ae328d5a",
   "metadata": {},
   "source": [
    "**Example** The data of 1st semister marks information of 1st year msc.statistics students,they were classified by all subjects and grade.Create a frequency table for the varible,**Grade**.\n"
   ]
  },
  {
   "cell_type": "code",
   "execution_count": 7,
   "id": "cfe4828d",
   "metadata": {},
   "outputs": [
    {
     "data": {
      "text/html": [
       "<div>\n",
       "<style scoped>\n",
       "    .dataframe tbody tr th:only-of-type {\n",
       "        vertical-align: middle;\n",
       "    }\n",
       "\n",
       "    .dataframe tbody tr th {\n",
       "        vertical-align: top;\n",
       "    }\n",
       "\n",
       "    .dataframe thead th {\n",
       "        text-align: right;\n",
       "    }\n",
       "</style>\n",
       "<table border=\"1\" class=\"dataframe\">\n",
       "  <thead>\n",
       "    <tr style=\"text-align: right;\">\n",
       "      <th>col_0</th>\n",
       "      <th>counts</th>\n",
       "    </tr>\n",
       "    <tr>\n",
       "      <th>Grade</th>\n",
       "      <th></th>\n",
       "    </tr>\n",
       "  </thead>\n",
       "  <tbody>\n",
       "    <tr>\n",
       "      <th>A</th>\n",
       "      <td>7</td>\n",
       "    </tr>\n",
       "    <tr>\n",
       "      <th>A+</th>\n",
       "      <td>3</td>\n",
       "    </tr>\n",
       "    <tr>\n",
       "      <th>B</th>\n",
       "      <td>9</td>\n",
       "    </tr>\n",
       "    <tr>\n",
       "      <th>B+</th>\n",
       "      <td>10</td>\n",
       "    </tr>\n",
       "    <tr>\n",
       "      <th>C</th>\n",
       "      <td>4</td>\n",
       "    </tr>\n",
       "    <tr>\n",
       "      <th>D</th>\n",
       "      <td>9</td>\n",
       "    </tr>\n",
       "    <tr>\n",
       "      <th>O</th>\n",
       "      <td>1</td>\n",
       "    </tr>\n",
       "  </tbody>\n",
       "</table>\n",
       "</div>"
      ],
      "text/plain": [
       "col_0  counts\n",
       "Grade        \n",
       "A           7\n",
       "A+          3\n",
       "B           9\n",
       "B+         10\n",
       "C           4\n",
       "D           9\n",
       "O           1"
      ]
     },
     "execution_count": 7,
     "metadata": {},
     "output_type": "execute_result"
    }
   ],
   "source": [
    "table3=pd.crosstab(df[\"Grade\"],'counts') #Frequency Table\n",
    "table4=table3/len(table3) #Relative Frequency Table\n",
    "table4\n",
    "table3\n"
   ]
  },
  {
   "cell_type": "markdown",
   "id": "b3f79871",
   "metadata": {},
   "source": [
    "### 2. Bar Plots\n",
    "\n"
   ]
  },
  {
   "cell_type": "markdown",
   "id": "734e84bd",
   "metadata": {},
   "source": [
    "- One of the better graphical method for dummarizing categorical data is a **barplot**.\n",
    "- Barplot also know as bar chart."
   ]
  },
  {
   "cell_type": "markdown",
   "id": "1df8d457",
   "metadata": {},
   "source": [
    "**Example** Construct barplots for the varible *Grade* used is previous example.\n"
   ]
  },
  {
   "cell_type": "code",
   "execution_count": 8,
   "id": "f7fe76b0",
   "metadata": {
    "scrolled": true
   },
   "outputs": [
    {
     "data": {
      "text/plain": [
       "<BarContainer object of 7 artists>"
      ]
     },
     "execution_count": 8,
     "metadata": {},
     "output_type": "execute_result"
    },
    {
     "data": {
      "image/png": "[encoded data removed]",
      "text/plain": [
       "<Figure size 640x480 with 1 Axes>"
      ]
     },
     "metadata": {},
     "output_type": "display_data"
    }
   ],
   "source": [
    "table3.columns\n",
    "plt.bar(x=table3.index,height='counts',data=table3)"
   ]
  },
  {
   "cell_type": "code",
   "execution_count": 9,
   "id": "568cf7b4",
   "metadata": {},
   "outputs": [
    {
     "data": {
      "image/png": "[encoded data removed]",
      "text/plain": [
       "<Figure size 640x480 with 1 Axes>"
      ]
     },
     "metadata": {},
     "output_type": "display_data"
    }
   ],
   "source": [
    "#y=pd.crosstab([np.mean(df.ST_102),np.mean(df.ST_104),np.mean(df.ST_106)],\"a\")\n",
    "#x=[\"ST_102\",\"ST_104\",\"ST_106\"]\n",
    "bar1=plt.bar(df.ROLL_NO,df.ST_102)\n",
    "bar2=plt.bar(df.ROLL_NO,df.ST_104)\n",
    "bar3=plt.bar(df.ROLL_NO,df.ST_106)"
   ]
  },
  {
   "cell_type": "code",
   "execution_count": null,
   "id": "7d25074d",
   "metadata": {},
   "outputs": [],
   "source": []
  },
  {
   "cell_type": "code",
   "execution_count": 10,
   "id": "0e5ab207",
   "metadata": {},
   "outputs": [
    {
     "data": {
      "image/png": "[encoded data removed]",
      "text/plain": [
       "<Figure size 640x480 with 1 Axes>"
      ]
     },
     "metadata": {},
     "output_type": "display_data"
    }
   ],
   "source": [
    "plt.pie(table3.counts,labels=table3.index)\n",
    "plt.show()"
   ]
  },
  {
   "cell_type": "code",
   "execution_count": null,
   "id": "8b24eb6b",
   "metadata": {},
   "outputs": [],
   "source": []
  },
  {
   "cell_type": "markdown",
   "id": "14f3ebc2",
   "metadata": {},
   "source": [
    "## Displying Quantitative data"
   ]
  },
  {
   "cell_type": "markdown",
   "id": "0622016c",
   "metadata": {},
   "source": [
    "- When presented with quantitative data,understanding begins with knowing about the data's shape,spread and Distribution."
   ]
  },
  {
   "cell_type": "markdown",
   "id": "558bdebb",
   "metadata": {},
   "source": [
    "### Histogram\n"
   ]
  },
  {
   "cell_type": "code",
   "execution_count": 11,
   "id": "fd231c18",
   "metadata": {},
   "outputs": [
    {
     "data": {
      "text/plain": [
       "Text(0.5, 1.0, 'Histogram')"
      ]
     },
     "execution_count": 11,
     "metadata": {},
     "output_type": "execute_result"
    },
    {
     "data": {
      "image/png": "[encoded data removed]",
      "text/plain": [
       "<Figure size 640x480 with 1 Axes>"
      ]
     },
     "metadata": {},
     "output_type": "display_data"
    }
   ],
   "source": [
    "plt.hist((df[\"ST_101\"]),color=\"maroon\",bins=10,alpha=0.7,edgecolor='k')\n",
    "plt.axvline()\n",
    "plt.xlabel(\"x_axis\")\n",
    "plt.title(\"Histogram\")"
   ]
  },
  {
   "cell_type": "markdown",
   "id": "c432c93a",
   "metadata": {},
   "source": [
    "### Box_Plot"
   ]
  },
  {
   "cell_type": "code",
   "execution_count": 14,
   "id": "572c1f4e",
   "metadata": {},
   "outputs": [
    {
     "data": {
      "text/plain": [
       "Text(0.5, 1.0, 'Box_Plot')"
      ]
     },
     "execution_count": 14,
     "metadata": {},
     "output_type": "execute_result"
    },
    {
     "data": {
      "image/png": "[encoded data removed]",
      "text/plain": [
       "<Figure size 640x480 with 1 Axes>"
      ]
     },
     "metadata": {},
     "output_type": "display_data"
    }
   ],
   "source": [
    "sns.boxplot(x=df.Grade,y=df.Percentage,color='red')\n",
    "plt.title(\"Box_Plot\")\n",
    "        \n",
    "\n"
   ]
  },
  {
   "cell_type": "code",
   "execution_count": null,
   "id": "dad6fcf3",
   "metadata": {},
   "outputs": [],
   "source": []
  }
 ],
 "metadata": {
  "kernelspec": {
   "display_name": "Python 3 (ipykernel)",
   "language": "python",
   "name": "python3"
  },
  "language_info": {
   "codemirror_mode": {
    "name": "ipython",
    "version": 3
   },
   "file_extension": ".py",
   "mimetype": "text/x-python",
   "name": "python",
   "nbconvert_exporter": "python",
   "pygments_lexer": "ipython3",
   "version": "3.10.10"
  }
 },
 "nbformat": 4,
 "nbformat_minor": 5
}
